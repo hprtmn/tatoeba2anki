{
 "cells": [
  {
   "cell_type": "code",
   "execution_count": 1,
   "metadata": {
    "collapsed": true,
    "jupyter": {
     "outputs_hidden": true
    }
   },
   "outputs": [],
   "source": [
    "# pre-requisite = generate the raw file of sentence pairs in your language combination from https://tatoeba.org/en/downloads. Go to 'Sentence pairs' then hit 'Download sentence pairs'.\n",
    "import pandas as pd"
   ]
  },
  {
   "cell_type": "code",
   "execution_count": 2,
   "metadata": {
    "collapsed": true,
    "jupyter": {
     "outputs_hidden": true
    }
   },
   "outputs": [],
   "source": [
    "# read the Tatoeba .tsv file into Pandas. This is by default a Farsi to English one.\n",
    "raw_sentence_pairs = pd.read_table('sentence-pairs-fa-en.tsv', header=None)"
   ]
  },
  {
   "cell_type": "code",
   "execution_count": 21,
   "metadata": {
    "collapsed": true,
    "jupyter": {
     "outputs_hidden": true
    }
   },
   "outputs": [
    {
     "data": {
      "text/html": [
       "<div>\n",
       "<style scoped>\n",
       "    .dataframe tbody tr th:only-of-type {\n",
       "        vertical-align: middle;\n",
       "    }\n",
       "\n",
       "    .dataframe tbody tr th {\n",
       "        vertical-align: top;\n",
       "    }\n",
       "\n",
       "    .dataframe thead th {\n",
       "        text-align: right;\n",
       "    }\n",
       "</style>\n",
       "<table border=\"1\" class=\"dataframe\">\n",
       "  <thead>\n",
       "    <tr style=\"text-align: right;\">\n",
       "      <th></th>\n",
       "      <th>sourceLanguage</th>\n",
       "      <th>English</th>\n",
       "      <th>sentence_length</th>\n",
       "      <th>sentence_length_mean_centered</th>\n",
       "      <th>quantiles</th>\n",
       "    </tr>\n",
       "    <tr>\n",
       "      <th>Id</th>\n",
       "      <th></th>\n",
       "      <th></th>\n",
       "      <th></th>\n",
       "      <th></th>\n",
       "      <th></th>\n",
       "    </tr>\n",
       "  </thead>\n",
       "  <tbody>\n",
       "    <tr>\n",
       "      <th>401635</th>\n",
       "      <td>خیلی ها از تبلیغات فریب خوردند.</td>\n",
       "      <td>Many people were deceived by the advertisement.</td>\n",
       "      <td>47</td>\n",
       "      <td>10.530642</td>\n",
       "      <td>complex</td>\n",
       "    </tr>\n",
       "    <tr>\n",
       "      <th>401637</th>\n",
       "      <td>جمعیت زیادی از مردم در جشن حاضر بودند.</td>\n",
       "      <td>A crowd of people were present at a party.</td>\n",
       "      <td>42</td>\n",
       "      <td>5.530642</td>\n",
       "      <td>complex</td>\n",
       "    </tr>\n",
       "    <tr>\n",
       "      <th>401640</th>\n",
       "      <td>شمار زیادی از مردم از سرتاسر کشور آمده اند.</td>\n",
       "      <td>Numbers of people came from all over the country.</td>\n",
       "      <td>49</td>\n",
       "      <td>12.530642</td>\n",
       "      <td>most_complex</td>\n",
       "    </tr>\n",
       "    <tr>\n",
       "      <th>401648</th>\n",
       "      <td>خیلی ها در صف منتظر بودند.</td>\n",
       "      <td>Many people were waiting in line.</td>\n",
       "      <td>33</td>\n",
       "      <td>-3.469358</td>\n",
       "      <td>medium</td>\n",
       "    </tr>\n",
       "    <tr>\n",
       "      <th>401659</th>\n",
       "      <td>خیلی ها به من پیشنهاد رفتن به تعطیلات را داده ...</td>\n",
       "      <td>A good many people have told me to take a holi...</td>\n",
       "      <td>50</td>\n",
       "      <td>13.530642</td>\n",
       "      <td>most_complex</td>\n",
       "    </tr>\n",
       "  </tbody>\n",
       "</table>\n",
       "</div>"
      ],
      "text/plain": [
       "                                           sourceLanguage  \\\n",
       "Id                                                          \n",
       "401635                    خیلی ها از تبلیغات فریب خوردند.   \n",
       "401637             جمعیت زیادی از مردم در جشن حاضر بودند.   \n",
       "401640        شمار زیادی از مردم از سرتاسر کشور آمده اند.   \n",
       "401648                         خیلی ها در صف منتظر بودند.   \n",
       "401659  خیلی ها به من پیشنهاد رفتن به تعطیلات را داده ...   \n",
       "\n",
       "                                                  English  sentence_length  \\\n",
       "Id                                                                           \n",
       "401635    Many people were deceived by the advertisement.               47   \n",
       "401637         A crowd of people were present at a party.               42   \n",
       "401640  Numbers of people came from all over the country.               49   \n",
       "401648                  Many people were waiting in line.               33   \n",
       "401659  A good many people have told me to take a holi...               50   \n",
       "\n",
       "        sentence_length_mean_centered     quantiles  \n",
       "Id                                                   \n",
       "401635                      10.530642       complex  \n",
       "401637                       5.530642       complex  \n",
       "401640                      12.530642  most_complex  \n",
       "401648                      -3.469358        medium  \n",
       "401659                      13.530642  most_complex  "
      ]
     },
     "execution_count": 21,
     "metadata": {},
     "output_type": "execute_result"
    }
   ],
   "source": [
    "# optional - inspect a sample of the data\n",
    "raw_sentence_pairs.head()"
   ]
  },
  {
   "cell_type": "code",
   "execution_count": 4,
   "metadata": {
    "collapsed": true,
    "jupyter": {
     "outputs_hidden": true
    }
   },
   "outputs": [],
   "source": [
    "# drop the English sentence identifier column. The source language identifier column will be used instead. It will also be used as an index for the whole row.\n",
    "raw_sentence_pairs.drop(columns=2, inplace=True)"
   ]
  },
  {
   "cell_type": "code",
   "execution_count": 5,
   "metadata": {
    "collapsed": true,
    "jupyter": {
     "outputs_hidden": true
    }
   },
   "outputs": [],
   "source": [
    "# rename the columns and set the index as the ID\n",
    "raw_sentence_pairs.columns = ['Id', 'sourceLanguage', 'English']\n",
    "raw_sentence_pairs.set_index('Id', inplace=True)"
   ]
  },
  {
   "cell_type": "code",
   "execution_count": 6,
   "metadata": {
    "collapsed": true,
    "jupyter": {
     "outputs_hidden": true
    }
   },
   "outputs": [],
   "source": [
    "# remove duplicate sentence pairs\n",
    "raw_sentence_pairs.drop_duplicates(subset=['sourceLanguage','English'], inplace=True)\n",
    "raw_sentence_pairs.drop_duplicates(subset=['English'], inplace=True)"
   ]
  },
  {
   "cell_type": "markdown",
   "metadata": {},
   "source": [
    "Create a new dataframe where you will put the sentence pairs you want to export to Anki\n",
    "- The first sentence pairs that will go into this new dataframe will be from the keyword filter below\n",
    "- This new dataframe will be called export_sentence_pairs\n",
    "\n",
    "\n",
    "Narrowing the dataset by keywords\n",
    "- This can help you focus on the areas of your target language where you are weakest. e.g. keywords that trigger a subjunctive clause, specific vocabulary, keywords that indicate questions\n",
    "- This could also contain a vocab list of terms you want to learn\n",
    "- Each keyword must be separated by '|'. I have put some default values in Farsi. \n",
    "- If you would rather filter the dataset by English words, swap 'sourceLanguage' for 'English'\n"
   ]
  },
  {
   "cell_type": "code",
   "execution_count": 7,
   "metadata": {
    "collapsed": true,
    "jupyter": {
     "outputs_hidden": true
    }
   },
   "outputs": [],
   "source": [
    "export_sentence_pairs = raw_sentence_pairs[raw_sentence_pairs['sourceLanguage'].str.contains(\"گذر|گشت\")]"
   ]
  },
  {
   "cell_type": "markdown",
   "metadata": {},
   "source": [
    "Finding sentences by the right complexity\n",
    "- a simple heuristic is used to determine this: the length of the sentence in characters. This assumes that the shorter the sentence is, the more likely it is to be useful to a language learner who is at an elementary level. The longer the sentence is, the more likely it is to be useful to a more advanced language learner. \n",
    "- for example, an advanced language learner can exclude simple sentences like 'Good afternoon.'\n",
    "- this is not an optimal measure of complexity, but it will help any language learner narrow down the original dataset to a more manageable/useful size. "
   ]
  },
  {
   "cell_type": "code",
   "execution_count": 8,
   "metadata": {
    "collapsed": true,
    "jupyter": {
     "outputs_hidden": true
    }
   },
   "outputs": [],
   "source": [
    "# create a new column containing the length of each sentence (by default in English, but you can change this for your target language).\n",
    "raw_sentence_pairs['sentence_length'] = raw_sentence_pairs['English'].str.len()"
   ]
  },
  {
   "cell_type": "code",
   "execution_count": 9,
   "metadata": {
    "collapsed": true,
    "jupyter": {
     "outputs_hidden": true
    }
   },
   "outputs": [],
   "source": [
    "# mean centre this \n",
    "average_sentence_length = raw_sentence_pairs['sentence_length'].mean()\n",
    "raw_sentence_pairs['sentence_length_mean_centered'] = raw_sentence_pairs['sentence_length'] - average_sentence_length"
   ]
  },
  {
   "cell_type": "code",
   "execution_count": 10,
   "metadata": {
    "collapsed": true,
    "jupyter": {
     "outputs_hidden": true
    }
   },
   "outputs": [],
   "source": [
    "# make into quantiles based on complexity of the sentence. Here, 5 quantiles have been chosen, but this is flexible. If you change this, add the same number of labels.\n",
    "raw_sentence_pairs['quantiles'] = pd.qcut(raw_sentence_pairs['sentence_length_mean_centered'], 5, labels=[\"most_simple\", \"simple\", \"medium\", \"complex\", \"most_complex\"])"
   ]
  },
  {
   "cell_type": "code",
   "execution_count": 11,
   "metadata": {},
   "outputs": [
    {
     "data": {
      "text/html": [
       "<div>\n",
       "<style scoped>\n",
       "    .dataframe tbody tr th:only-of-type {\n",
       "        vertical-align: middle;\n",
       "    }\n",
       "\n",
       "    .dataframe tbody tr th {\n",
       "        vertical-align: top;\n",
       "    }\n",
       "\n",
       "    .dataframe thead th {\n",
       "        text-align: right;\n",
       "    }\n",
       "</style>\n",
       "<table border=\"1\" class=\"dataframe\">\n",
       "  <thead>\n",
       "    <tr style=\"text-align: right;\">\n",
       "      <th></th>\n",
       "      <th>sourceLanguage</th>\n",
       "      <th>English</th>\n",
       "      <th>sentence_length</th>\n",
       "      <th>sentence_length_mean_centered</th>\n",
       "      <th>quantiles</th>\n",
       "    </tr>\n",
       "    <tr>\n",
       "      <th>Id</th>\n",
       "      <th></th>\n",
       "      <th></th>\n",
       "      <th></th>\n",
       "      <th></th>\n",
       "      <th></th>\n",
       "    </tr>\n",
       "  </thead>\n",
       "  <tbody>\n",
       "    <tr>\n",
       "      <th>401635</th>\n",
       "      <td>خیلی ها از تبلیغات فریب خوردند.</td>\n",
       "      <td>Many people were deceived by the advertisement.</td>\n",
       "      <td>47</td>\n",
       "      <td>10.530642</td>\n",
       "      <td>complex</td>\n",
       "    </tr>\n",
       "    <tr>\n",
       "      <th>401637</th>\n",
       "      <td>جمعیت زیادی از مردم در جشن حاضر بودند.</td>\n",
       "      <td>A crowd of people were present at a party.</td>\n",
       "      <td>42</td>\n",
       "      <td>5.530642</td>\n",
       "      <td>complex</td>\n",
       "    </tr>\n",
       "    <tr>\n",
       "      <th>401977</th>\n",
       "      <td>من و او(زن) هم سن هستیم.</td>\n",
       "      <td>She and I are the same age.</td>\n",
       "      <td>27</td>\n",
       "      <td>-9.469358</td>\n",
       "      <td>simple</td>\n",
       "    </tr>\n",
       "    <tr>\n",
       "      <th>401981</th>\n",
       "      <td>او وانمود کرد که مرا نمی شنود.</td>\n",
       "      <td>He pretended not to hear me.</td>\n",
       "      <td>28</td>\n",
       "      <td>-8.469358</td>\n",
       "      <td>simple</td>\n",
       "    </tr>\n",
       "    <tr>\n",
       "      <th>402865</th>\n",
       "      <td>دکتر خوبی کسی است که به راهنمایی های خودش عمل ...</td>\n",
       "      <td>A good doctor follows his own directions.</td>\n",
       "      <td>41</td>\n",
       "      <td>4.530642</td>\n",
       "      <td>complex</td>\n",
       "    </tr>\n",
       "    <tr>\n",
       "      <th>...</th>\n",
       "      <td>...</td>\n",
       "      <td>...</td>\n",
       "      <td>...</td>\n",
       "      <td>...</td>\n",
       "      <td>...</td>\n",
       "    </tr>\n",
       "    <tr>\n",
       "      <th>10724347</th>\n",
       "      <td>من به جادو معتقد نیستم.</td>\n",
       "      <td>I don't believe in magic.</td>\n",
       "      <td>25</td>\n",
       "      <td>-11.469358</td>\n",
       "      <td>simple</td>\n",
       "    </tr>\n",
       "    <tr>\n",
       "      <th>10728767</th>\n",
       "      <td>او هنگام تلفن همیشه مجمل بود.</td>\n",
       "      <td>He was always terse on the telephone.</td>\n",
       "      <td>37</td>\n",
       "      <td>0.530642</td>\n",
       "      <td>complex</td>\n",
       "    </tr>\n",
       "    <tr>\n",
       "      <th>10728863</th>\n",
       "      <td>شما یک سالوس دورو هستید.</td>\n",
       "      <td>You're a two-faced hypocrite.</td>\n",
       "      <td>29</td>\n",
       "      <td>-7.469358</td>\n",
       "      <td>simple</td>\n",
       "    </tr>\n",
       "    <tr>\n",
       "      <th>10730038</th>\n",
       "      <td>دکترها گلوله را در آوردند.</td>\n",
       "      <td>Doctors removed the bullet.</td>\n",
       "      <td>27</td>\n",
       "      <td>-9.469358</td>\n",
       "      <td>simple</td>\n",
       "    </tr>\n",
       "    <tr>\n",
       "      <th>10730042</th>\n",
       "      <td>گلوله کلاه را سوراخ کرد.</td>\n",
       "      <td>A bullet pierced the helmet.</td>\n",
       "      <td>28</td>\n",
       "      <td>-8.469358</td>\n",
       "      <td>simple</td>\n",
       "    </tr>\n",
       "  </tbody>\n",
       "</table>\n",
       "<p>2186 rows × 5 columns</p>\n",
       "</div>"
      ],
      "text/plain": [
       "                                             sourceLanguage  \\\n",
       "Id                                                            \n",
       "401635                      خیلی ها از تبلیغات فریب خوردند.   \n",
       "401637               جمعیت زیادی از مردم در جشن حاضر بودند.   \n",
       "401977                             من و او(زن) هم سن هستیم.   \n",
       "401981                       او وانمود کرد که مرا نمی شنود.   \n",
       "402865    دکتر خوبی کسی است که به راهنمایی های خودش عمل ...   \n",
       "...                                                     ...   \n",
       "10724347                            من به جادو معتقد نیستم.   \n",
       "10728767                      او هنگام تلفن همیشه مجمل بود.   \n",
       "10728863                           شما یک سالوس دورو هستید.   \n",
       "10730038                         دکترها گلوله را در آوردند.   \n",
       "10730042                           گلوله کلاه را سوراخ کرد.   \n",
       "\n",
       "                                                  English  sentence_length  \\\n",
       "Id                                                                           \n",
       "401635    Many people were deceived by the advertisement.               47   \n",
       "401637         A crowd of people were present at a party.               42   \n",
       "401977                        She and I are the same age.               27   \n",
       "401981                       He pretended not to hear me.               28   \n",
       "402865          A good doctor follows his own directions.               41   \n",
       "...                                                   ...              ...   \n",
       "10724347                        I don't believe in magic.               25   \n",
       "10728767            He was always terse on the telephone.               37   \n",
       "10728863                    You're a two-faced hypocrite.               29   \n",
       "10730038                      Doctors removed the bullet.               27   \n",
       "10730042                     A bullet pierced the helmet.               28   \n",
       "\n",
       "          sentence_length_mean_centered quantiles  \n",
       "Id                                                 \n",
       "401635                        10.530642   complex  \n",
       "401637                         5.530642   complex  \n",
       "401977                        -9.469358    simple  \n",
       "401981                        -8.469358    simple  \n",
       "402865                         4.530642   complex  \n",
       "...                                 ...       ...  \n",
       "10724347                     -11.469358    simple  \n",
       "10728767                       0.530642   complex  \n",
       "10728863                      -7.469358    simple  \n",
       "10730038                      -9.469358    simple  \n",
       "10730042                      -8.469358    simple  \n",
       "\n",
       "[2186 rows x 5 columns]"
      ]
     },
     "execution_count": 11,
     "metadata": {},
     "output_type": "execute_result"
    }
   ],
   "source": [
    "# isolate the simple and medium complexity sentences\n",
    "raw_sentence_pairs[raw_sentence_pairs['quantiles'].str.match(\"simple|complex\")]"
   ]
  },
  {
   "cell_type": "code",
   "execution_count": 12,
   "metadata": {
    "collapsed": true,
    "jupyter": {
     "outputs_hidden": true
    }
   },
   "outputs": [
    {
     "data": {
      "text/plain": [
       "most_simple     1173\n",
       "simple          1093\n",
       "complex         1093\n",
       "most_complex    1080\n",
       "medium          1060\n",
       "Name: quantiles, dtype: int64"
      ]
     },
     "execution_count": 12,
     "metadata": {},
     "output_type": "execute_result"
    } 
   ],
   "source": [
    "# optional - see the distribution of the quantiles before deciding which you want\n",
    "raw_sentence_pairs['quantiles'].value_counts(ascending=False)"
   ]
  },
  {
   "cell_type": "code",
   "execution_count": 13,
   "metadata": {},
   "outputs": [],
   "source": [
    "# add the sentences of the level of complexity you are interested in to a new dataframe which will later be used to merge this data with the export dataframe\n",
    "additions_by_complexity = raw_sentence_pairs[raw_sentence_pairs['quantiles'].str.contains(\"simple|medium\")]"
   ]
  },
  {
   "cell_type": "code",
   "execution_count": null,
   "metadata": {},
   "outputs": [],
   "source": [
    "# remove irrelevant columns before merging \n",
    "additions_by_complexity.drop(columns=['sentence_length','sentence_length_mean_centered','quantiles'],inplace=True)"
   ]
  },
  {
   "cell_type": "code",
   "execution_count": 16,
   "metadata": {
    "collapsed": true,
    "jupyter": {
     "outputs_hidden": true
    }
   },
   "outputs": [],
   "source": [
    "# merge the new additions into the export dataframe\n",
    "export_sentence_pairs = pd.concat([export_sentence_pairs, additions_by_complexity],ignore_index=True)"
   ]
  },
  {
   "cell_type": "code",
   "execution_count": 17,
   "metadata": {
    "collapsed": true,
    "jupyter": {
     "outputs_hidden": true
    }
   },
   "outputs": [],
   "source": [
    "# remove duplicates\n",
    "export_sentence_pairs.drop_duplicates(subset=['English'], inplace=True)"
   ]
  },
  {
   "cell_type": "code",
   "execution_count": null,
   "metadata": {
    "collapsed": true,
    "jupyter": {
     "outputs_hidden": true
    }
   },
   "outputs": [],
   "source": [
    "# the last step is to export the final dataframe to a .csv file. The default encoding will be utf-8, which is what Anki requires. header=False ensures the column names won't be added as a card in Anki too. Finally, to get this into Anki, simply go to 'import file' in the Anki application and select 'anki_import.csv'\n",
    "export_sentence_pairs.to_csv('anki_import.csv',index=False, index_label=False, header=False)"
   ]
  }
 ],
 "metadata": {
  "interpreter": {
   "hash": "6c439211855c909faad15ff00ad3c955d102cc66b63e0afb43aaf19d4afe302e"
  },
  "kernelspec": {
   "display_name": "Python 3",
   "language": "python",
   "name": "python3"
  },
  "language_info": {
   "codemirror_mode": {
    "name": "ipython",
    "version": 3
   },
   "file_extension": ".py",
   "mimetype": "text/x-python",
   "name": "python",
   "nbconvert_exporter": "python",
   "pygments_lexer": "ipython3",
   "version": "3.7.3"
  }
 },
 "nbformat": 4,
 "nbformat_minor": 4
}
